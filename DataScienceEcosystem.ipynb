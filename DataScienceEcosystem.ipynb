{
 "cells": [
  {
   "cell_type": "markdown",
   "id": "d24403c9-507c-4eca-b1a8-b6504c0dc049",
   "metadata": {},
   "source": [
    "# Data Science Tools and Ecosystem"
   ]
  },
  {
   "cell_type": "markdown",
   "id": "4df04fdd-6169-4439-b270-699735358a55",
   "metadata": {},
   "source": [
    "In this notebook, Data Science Tools and Ecosystem are summarized."
   ]
  },
  {
   "cell_type": "markdown",
   "id": "b2569d31-6a17-4613-a8ff-07759f608420",
   "metadata": {},
   "source": [
    "<b> Objectives <b>\n",
    "* List popular languages for Data Science\n",
    "* List python libraries for machine learning\n",
    "* List open source environments\n",
    "* List visualization libraries in Rstudio\n"
   ]
  },
  {
   "cell_type": "markdown",
   "id": "6f28a85d-1a94-4d23-ae8e-b5eecf53046d",
   "metadata": {},
   "source": [
    "Some of the popular languages that Data Scientists use are:\n",
    "1. Python\n",
    "2. C++\n",
    "3. Scala"
   ]
  },
  {
   "cell_type": "markdown",
   "id": "62ed1fb1-1ab9-46f4-a1c9-d3d9e04813a5",
   "metadata": {},
   "source": [
    "Some of the commonly used libraries used by Data Scientists include:\n",
    "1. Sickit learn\n",
    "2. caret\n",
    "3. ggplot"
   ]
  },
  {
   "cell_type": "markdown",
   "id": "c91c12c3-bd62-4ff3-ab74-d446ba94e697",
   "metadata": {},
   "source": [
    "| Data Science tools |\n",
    "|----------|\n",
    "|Rstudio|\n",
    "|Jupyter notebook|\n",
    "|Visualcode studio|"
   ]
  },
  {
   "cell_type": "markdown",
   "id": "c720e38d-cdd2-428d-b57c-f29dd7e0d2ce",
   "metadata": {},
   "source": [
    "### Below are a few examples of evaluating arithmetic expressions in Python."
   ]
  },
  {
   "cell_type": "code",
   "execution_count": 1,
   "id": "5582d34f-c2eb-42ee-ad68-0102f39dc6d3",
   "metadata": {},
   "outputs": [
    {
     "data": {
      "text/plain": [
       "17.0"
      ]
     },
     "execution_count": 1,
     "metadata": {},
     "output_type": "execute_result"
    }
   ],
   "source": [
    "#This a simple arithmetic expression to multiply then add integers.\n",
    "(3*4)+5."
   ]
  },
  {
   "cell_type": "code",
   "execution_count": 2,
   "id": "f65d4784-5317-4335-9b2c-398e18111d67",
   "metadata": {},
   "outputs": [
    {
     "data": {
      "text/plain": [
       "3.3333333333333335"
      ]
     },
     "execution_count": 2,
     "metadata": {},
     "output_type": "execute_result"
    }
   ],
   "source": [
    "#This will convert 200 minutes to hours by diving by 60.\n",
    "200/60\n"
   ]
  },
  {
   "cell_type": "markdown",
   "id": "8f1d03e1-557f-48d7-82d2-4dcb539009bd",
   "metadata": {},
   "source": [
    "## Author\n",
    "Oscar Daniel Rangel Huerta"
   ]
  }
 ],
 "metadata": {
  "kernelspec": {
   "display_name": "Python 3 (ipykernel)",
   "language": "python",
   "name": "python3"
  },
  "language_info": {
   "codemirror_mode": {
    "name": "ipython",
    "version": 3
   },
   "file_extension": ".py",
   "mimetype": "text/x-python",
   "name": "python",
   "nbconvert_exporter": "python",
   "pygments_lexer": "ipython3",
   "version": "3.12.8"
  }
 },
 "nbformat": 4,
 "nbformat_minor": 5
}
